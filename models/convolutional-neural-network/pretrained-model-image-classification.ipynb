{
 "cells": [
  {
   "cell_type": "code",
   "execution_count": 36,
   "metadata": {},
   "outputs": [],
   "source": [
    "from tensorflow import keras\n",
    "import os\n",
    "import matplotlib.pyplot as plt\n",
    "import tensorflow_datasets as tfds\n",
    "\n",
    "\n",
    "# Load and split data into 80% train, 10% validation and 10% test\n",
    "(raw_train, raw_validation, raw_test), metadata = tfds.load('cats_vs_dogs', \n",
    "                                                  split=['train[:80%]', 'train[80%:90%]', 'train[90%:]'],\n",
    "                                                  with_info=True,\n",
    "                                                  as_supervised=True)"
   ]
  }
 ],
 "metadata": {
  "kernelspec": {
   "display_name": "Python 3",
   "language": "python",
   "name": "python3"
  },
  "language_info": {
   "codemirror_mode": {
    "name": "ipython",
    "version": 3
   },
   "file_extension": ".py",
   "mimetype": "text/x-python",
   "name": "python",
   "nbconvert_exporter": "python",
   "pygments_lexer": "ipython3",
   "version": "3.8.2"
  }
 },
 "nbformat": 4,
 "nbformat_minor": 4
}
