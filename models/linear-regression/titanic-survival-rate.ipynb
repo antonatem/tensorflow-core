{
 "cells": [
  {
   "cell_type": "code",
   "execution_count": 105,
   "metadata": {},
   "outputs": [
    {
     "data": {
      "text/plain": [
       "sex                          male\n",
       "age                            22\n",
       "n_siblings_spouses              1\n",
       "parch                           0\n",
       "fare                         7.25\n",
       "class                       Third\n",
       "deck                      unknown\n",
       "embark_town           Southampton\n",
       "alone                           n\n",
       "Name: 0, dtype: object"
      ]
     },
     "execution_count": 105,
     "metadata": {},
     "output_type": "execute_result"
    }
   ],
   "source": [
    "from pandas import read_csv, concat\n",
    "import tensorflow as tf\n",
    "from IPython.display import clear_output\n",
    "import numpy\n",
    "import pandas as pd\n",
    "from sklearn.metrics import roc_curve\n",
    "from matplotlib import pyplot as plt\n",
    "\n",
    "# Load Titanic dataset\n",
    "dftrain = read_csv(\"data/train.csv\")\n",
    "dfeval = read_csv(\"data/eval.csv\")\n",
    "\n",
    "# Data labels\n",
    "y_train = dftrain.pop(\"survived\")\n",
    "y_eval = dfeval.pop(\"survived\")\n",
    "\n",
    "# First index of data\n",
    "dftrain.loc[0]"
   ]
  },
  {
   "cell_type": "code",
   "execution_count": 13,
   "metadata": {},
   "outputs": [
    {
     "data": {
      "text/plain": [
       "<AxesSubplot:>"
      ]
     },
     "execution_count": 13,
     "metadata": {},
     "output_type": "execute_result"
    },
    {
     "data": {
      "image/png": "[encoded data removed]",
      "text/plain": [
       "<Figure size 432x288 with 1 Axes>"
      ]
     },
     "metadata": {
      "needs_background": "light"
     },
     "output_type": "display_data"
    }
   ],
   "source": [
    "# Age distribution\n",
    "dftrain.age.hist(bins=20)"
   ]
  },
  {
   "cell_type": "code",
   "execution_count": 14,
   "metadata": {},
   "outputs": [
    {
     "data": {
      "text/plain": [
       "<AxesSubplot:>"
      ]
     },
     "execution_count": 14,
     "metadata": {},
     "output_type": "execute_result"
    },
    {
     "data": {
      "image/png": "[encoded data removed]",
      "text/plain": [
       "<Figure size 432x288 with 1 Axes>"
      ]
     },
     "metadata": {
      "needs_background": "light"
     },
     "output_type": "display_data"
    }
   ],
   "source": [
    "# Gender distribution\n",
    "dftrain.sex.value_counts().plot(kind=\"barh\")"
   ]
  },
  {
   "cell_type": "code",
   "execution_count": 15,
   "metadata": {},
   "outputs": [
    {
     "data": {
      "text/plain": [
       "Text(0.5, 0, '% survive')"
      ]
     },
     "execution_count": 15,
     "metadata": {},
     "output_type": "execute_result"
    },
    {
     "data": {
      "image/png": "[encoded data removed]",
      "text/plain": [
       "<Figure size 432x288 with 1 Axes>"
      ]
     },
     "metadata": {
      "needs_background": "light"
     },
     "output_type": "display_data"
    }
   ],
   "source": [
    "perc_survival = concat([dftrain, y_train], axis=1).groupby(\"sex\").survived.mean() * 100\n",
    "perc_survival.plot(kind=\"barh\").set_xlabel(\"% survive\")"
   ]
  },
  {
   "cell_type": "code",
   "execution_count": 16,
   "metadata": {},
   "outputs": [],
   "source": [
    "# Convert categorical data to numeric\n",
    "categorical_columns = [\"sex\", \"n_siblings_spouses\", \"parch\", \"class\", \"deck\", \"embark_town\", \"alone\"]\n",
    "numeric_columns = [\"age\", \"fare\"]\n",
    "feature_columns = []\n",
    "\n",
    "for feature_name in categorical_columns:\n",
    "    vocabulary = dftrain[feature_name].unique()\n",
    "    feature_columns.append(tf.feature_column.categorical_column_with_vocabulary_list(feature_name, vocabulary))\n",
    "\n",
    "for feature_name in numeric_columns:\n",
    "    feature_columns.append(tf.feature_column.numeric_column(feature_name, dtype=tf.float32))"
   ]
  },
  {
   "cell_type": "code",
   "execution_count": 69,
   "metadata": {},
   "outputs": [
    {
     "name": "stdout",
     "output_type": "stream",
     "text": [
      "Age feature column: \n",
      " [[49.]\n",
      " [ 9.]\n",
      " [42.]\n",
      " [23.]\n",
      " [29.]\n",
      " [24.]\n",
      " [20.]\n",
      " [16.]\n",
      " [ 4.]\n",
      " [22.]]\n",
      "\n",
      "Gender feature column: \n",
      " [[0. 1.]\n",
      " [1. 0.]\n",
      " [1. 0.]\n",
      " [0. 1.]\n",
      " [0. 1.]\n",
      " [0. 1.]\n",
      " [1. 0.]\n",
      " [1. 0.]\n",
      " [1. 0.]\n",
      " [0. 1.]]\n",
      "\n"
     ]
    }
   ],
   "source": [
    "# Inspect numeric feature column\n",
    "age_column = feature_columns[7]\n",
    "print(\"Age feature column: \\n {}\\n\".format(tf.keras.layers.DenseFeatures([age_column], dtype=tf.float32)(feature_batch).numpy()))\n",
    "\n",
    "# Inspect categorical column\n",
    "gender_column = feature_columns[0]\n",
    "print(\"Gender feature column: \\n {}\\n\".format(tf.keras.layers.DenseFeatures([tf.feature_column.indicator_column(gender_column)], dtype=tf.float32)(feature_batch).numpy()))"
   ]
  },
  {
   "cell_type": "code",
   "execution_count": 70,
   "metadata": {},
   "outputs": [],
   "source": [
    "# Input function\n",
    "def make_input_fn(data_df, label_df, num_epochs=10, shuffle=True, batch_size=32):\n",
    "  def input_function():\n",
    "#     Batch of the dataset\n",
    "    ds = tf.data.Dataset.from_tensor_slices((dict(data_df), label_df))\n",
    "    \n",
    "    if shuffle:\n",
    "      ds = ds.shuffle(1000)\n",
    "    \n",
    "    ds = ds.batch(batch_size).repeat(num_epochs)\n",
    "    \n",
    "    return ds\n",
    "  return input_function"
   ]
  },
  {
   "cell_type": "code",
   "execution_count": 71,
   "metadata": {},
   "outputs": [
    {
     "name": "stdout",
     "output_type": "stream",
     "text": [
      "Feature keys: ['sex', 'age', 'n_siblings_spouses', 'parch', 'fare', 'class', 'deck', 'embark_town', 'alone'] \n",
      "\n",
      "A batch of features: [b'Second' b'Third' b'Second' b'First' b'Third' b'First' b'Second'\n",
      " b'Third' b'First' b'Third'] \n",
      "\n",
      "A batch of labels: [0 1 1 1 1 1 0 0 1 0] \n",
      "\n"
     ]
    }
   ],
   "source": [
    "# Inspect dataset\n",
    "ds = make_input_fn(dftrain, y_train, batch_size=10)()\n",
    "\n",
    "for feature_batch, class_batch in ds.take(1):\n",
    "    print(\"Feature keys: {} \\n\".format(list(feature_batch.keys())))\n",
    "    print(\"A batch of features: {} \\n\".format(feature_batch[\"class\"]))\n",
    "    print(\"A batch of labels: {} \\n\".format(class_batch))"
   ]
  },
  {
   "cell_type": "code",
   "execution_count": 116,
   "metadata": {},
   "outputs": [
    {
     "name": "stdout",
     "output_type": "stream",
     "text": [
      "Model accuracy: 0.7537878751754761\n",
      "Survived: yes\n",
      "Predicted probablity of survival: 96.38228416442871\n"
     ]
    },
    {
     "data": {
      "text/plain": [
       "<AxesSubplot:title={'center':'predicted probabilities'}, ylabel='Frequency'>"
      ]
     },
     "execution_count": 116,
     "metadata": {},
     "output_type": "execute_result"
    },
    {
     "data": {
      "image/png": "[encoded data removed]",
      "text/plain": [
       "<Figure size 432x288 with 1 Axes>"
      ]
     },
     "metadata": {
      "needs_background": "light"
     },
     "output_type": "display_data"
    }
   ],
   "source": [
    "# Train model on base feature columns\n",
    "train_input_fn = make_input_fn(dftrain, y_train)\n",
    "eval_input_fn = make_input_fn(dfeval, y_eval, num_epochs=1, shuffle=False)\n",
    "linear_est = tf.estimator.LinearClassifier(feature_columns=feature_columns)\n",
    "\n",
    "linear_est.train(train_input_fn)\n",
    "test_result = linear_est.evaluate(eval_input_fn)\n",
    "\n",
    "clear_output()\n",
    "\n",
    "result = list(linear_est.predict(eval_input_fn))\n",
    "clear_output()\n",
    "survival_map = {\n",
    "    0: \"no\",\n",
    "    1: \"yes\"\n",
    "}\n",
    "\n",
    "print(\"Model accuracy: {}\".format(test_result[\"accuracy\"]))\n",
    "print(\"Survived: {}\".format(survival_map[y_eval.loc[70]]))\n",
    "print(\"Predicted probablity of survival: {}\".format(result[70][\"probabilities\"][1] * 100))\n",
    "\n",
    "probability = pd.Series([res['probabilities'][1] for res in result])\n",
    "\n",
    "probability.plot(kind='hist', bins=20, title='predicted probabilities')"
   ]
  },
  {
   "cell_type": "code",
   "execution_count": 104,
   "metadata": {},
   "outputs": [
    {
     "name": "stdout",
     "output_type": "stream",
     "text": [
      "Model accuracy: 0.7651515007019043\n",
      "Survived: yes\n",
      "Predicted probablity of survival: 87.15981245040894\n"
     ]
    },
    {
     "data": {
      "text/plain": [
       "<AxesSubplot:title={'center':'predicted probabilities'}, ylabel='Frequency'>"
      ]
     },
     "execution_count": 104,
     "metadata": {},
     "output_type": "execute_result"
    },
    {
     "data": {
      "image/png": "[encoded data removed]",
      "text/plain": [
       "<Figure size 432x288 with 1 Axes>"
      ]
     },
     "metadata": {
      "needs_background": "light"
     },
     "output_type": "display_data"
    }
   ],
   "source": [
    "# Train on Derived feature columns\n",
    "age_x_gender_x_class = tf.feature_column.crossed_column([\"age\", \"sex\", \"class\"], hash_bucket_size=100)\n",
    "derived_feature_columns = [age_x_gender_x_class]\n",
    "linear_est = tf.estimator.LinearClassifier(feature_columns=feature_columns+derived_feature_columns)\n",
    "\n",
    "linear_est.train(train_input_fn)\n",
    "result = linear_est.evaluate(eval_input_fn)\n",
    "\n",
    "test_result = linear_est.evaluate(eval_input_fn)\n",
    "\n",
    "clear_output()\n",
    "\n",
    "result = list(linear_est.predict(eval_input_fn))\n",
    "clear_output()\n",
    "survival_map = {\n",
    "    0: \"no\",\n",
    "    1: \"yes\"\n",
    "}\n",
    "\n",
    "print(\"Model accuracy: {}\".format(test_result[\"accuracy\"]))\n",
    "print(\"Survived: {}\".format(survival_map[y_eval.loc[70]]))\n",
    "print(\"Predicted probablity of survival: {}\".format(result[70][\"probabilities\"][1] * 100))\n",
    "\n",
    "probability = pd.Series([res['probabilities'][1] for res in result])\n",
    "\n",
    "probability.plot(kind='hist', bins=20, title='predicted probabilities')"
   ]
  },
  {
   "cell_type": "code",
   "execution_count": 114,
   "metadata": {},
   "outputs": [
    {
     "data": {
      "text/plain": [
       "(0.0, 1.05)"
      ]
     },
     "execution_count": 114,
     "metadata": {},
     "output_type": "execute_result"
    },
    {
     "data": {
      "image/png": "[encoded data removed]",
      "text/plain": [
       "<Figure size 432x288 with 1 Axes>"
      ]
     },
     "metadata": {
      "needs_background": "light"
     },
     "output_type": "display_data"
    }
   ],
   "source": [
    "fpr, tpr, _  = roc_curve(y_eval, probability)\n",
    "plt.plot(fpr, tpr)\n",
    "plt.title(\"ROC Curve\")\n",
    "plt.xlabel(\"False positive rate\")\n",
    "plt.ylabel(\"True positive rate\")\n",
    "plt.xlim(0,)\n",
    "plt.ylim(0,)"
   ]
  }
 ],
 "metadata": {
  "kernelspec": {
   "display_name": "Python 3",
   "language": "python",
   "name": "python3"
  },
  "language_info": {
   "codemirror_mode": {
    "name": "ipython",
    "version": 3
   },
   "file_extension": ".py",
   "mimetype": "text/x-python",
   "name": "python",
   "nbconvert_exporter": "python",
   "pygments_lexer": "ipython3",
   "version": "3.8.2"
  }
 },
 "nbformat": 4,
 "nbformat_minor": 4
}
